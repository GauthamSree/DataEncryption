{
 "cells": [
  {
   "cell_type": "code",
   "execution_count": 30,
   "metadata": {},
   "outputs": [],
   "source": [
    "from math import log2\n",
    "import queue\n",
    "\n",
    "def pre_to_level(arr):\n",
    "    que = queue.Queue()\n",
    "    que.put((0,len(arr)))\n",
    "    ans = [] #this will be answer\n",
    "    while not que.empty():\n",
    "        iroot,size = que.get() #index of root and size of subtree\n",
    "        if iroot>=len(arr) or size==0: \n",
    "            continue ##nodes at iroot don't exist\n",
    "        else: \n",
    "            ans.append(arr[iroot]) #append to back of output array\n",
    "        sz_of_left = left_tree_size(size) \n",
    "        que.put((iroot+1,sz_of_left)) #insert left sub-tree info to que\n",
    "        que.put((iroot+1+sz_of_left,size-sz_of_left-1)) #right sub-tree info \n",
    "        print(que.queue)\n",
    "    return ans"
   ]
  },
  {
   "cell_type": "code",
   "execution_count": 23,
   "metadata": {},
   "outputs": [],
   "source": [
    "def left_tree_size(n):\n",
    "    if n<=1: return 0\n",
    "    l = int(log2(n+1)) #l = no of completely filled levels\n",
    "    ans = 2**(l-1)\n",
    "    last_level_nodes = min(n-2**l+1,ans)\n",
    "    return ans + last_level_nodes -1"
   ]
  },
  {
   "cell_type": "code",
   "execution_count": 24,
   "metadata": {},
   "outputs": [],
   "source": [
    "m = queue.Queue()"
   ]
  },
  {
   "cell_type": "code",
   "execution_count": 25,
   "metadata": {},
   "outputs": [],
   "source": [
    "arr = [1, 2, 4]"
   ]
  },
  {
   "cell_type": "code",
   "execution_count": 26,
   "metadata": {},
   "outputs": [],
   "source": [
    "m.put((0, len(arr)))"
   ]
  },
  {
   "cell_type": "code",
   "execution_count": 27,
   "metadata": {},
   "outputs": [
    {
     "data": {
      "text/plain": [
       "<bound method Queue.get of <queue.Queue object at 0x7f9b1dce5070>>"
      ]
     },
     "execution_count": 27,
     "metadata": {},
     "output_type": "execute_result"
    }
   ],
   "source": [
    "m.get"
   ]
  },
  {
   "cell_type": "code",
   "execution_count": 31,
   "metadata": {},
   "outputs": [],
   "source": [
    "arr = \"HelrlodlWo\""
   ]
  },
  {
   "cell_type": "code",
   "execution_count": 32,
   "metadata": {},
   "outputs": [
    {
     "name": "stdout",
     "output_type": "stream",
     "text": [
      "deque([(1, 6), (7, 3)])\n",
      "deque([(7, 3), (2, 3), (5, 2)])\n",
      "deque([(2, 3), (5, 2), (8, 1), (9, 1)])\n",
      "deque([(5, 2), (8, 1), (9, 1), (3, 1), (4, 1)])\n",
      "deque([(8, 1), (9, 1), (3, 1), (4, 1), (6, 1), (7, 0)])\n",
      "deque([(9, 1), (3, 1), (4, 1), (6, 1), (7, 0), (9, 0), (9, 0)])\n",
      "deque([(3, 1), (4, 1), (6, 1), (7, 0), (9, 0), (9, 0), (10, 0), (10, 0)])\n",
      "deque([(4, 1), (6, 1), (7, 0), (9, 0), (9, 0), (10, 0), (10, 0), (4, 0), (4, 0)])\n",
      "deque([(6, 1), (7, 0), (9, 0), (9, 0), (10, 0), (10, 0), (4, 0), (4, 0), (5, 0), (5, 0)])\n",
      "deque([(7, 0), (9, 0), (9, 0), (10, 0), (10, 0), (4, 0), (4, 0), (5, 0), (5, 0), (7, 0), (7, 0)])\n"
     ]
    }
   ],
   "source": [
    "ans = pre_to_level(arr)"
   ]
  },
  {
   "cell_type": "code",
   "execution_count": 15,
   "metadata": {},
   "outputs": [
    {
     "data": {
      "text/plain": [
       "['H', 'e', 'l', 'l', 'o', 'W', 'o', 'r', 'l', 'd']"
      ]
     },
     "execution_count": 15,
     "metadata": {},
     "output_type": "execute_result"
    }
   ],
   "source": [
    "ans"
   ]
  },
  {
   "cell_type": "code",
   "execution_count": 16,
   "metadata": {},
   "outputs": [],
   "source": [
    "l = len(arr)"
   ]
  },
  {
   "cell_type": "code",
   "execution_count": 33,
   "metadata": {},
   "outputs": [
    {
     "data": {
      "text/plain": [
       "3"
      ]
     },
     "execution_count": 33,
     "metadata": {},
     "output_type": "execute_result"
    }
   ],
   "source": [
    "left_tree_size(6)"
   ]
  },
  {
   "cell_type": "code",
   "execution_count": 18,
   "metadata": {},
   "outputs": [
    {
     "data": {
      "text/plain": [
       "10"
      ]
     },
     "execution_count": 18,
     "metadata": {},
     "output_type": "execute_result"
    }
   ],
   "source": [
    "l"
   ]
  },
  {
   "cell_type": "code",
   "execution_count": null,
   "metadata": {},
   "outputs": [],
   "source": []
  }
 ],
 "metadata": {
  "kernelspec": {
   "display_name": "Python 3",
   "language": "python",
   "name": "python3"
  },
  "language_info": {
   "codemirror_mode": {
    "name": "ipython",
    "version": 3
   },
   "file_extension": ".py",
   "mimetype": "text/x-python",
   "name": "python",
   "nbconvert_exporter": "python",
   "pygments_lexer": "ipython3",
   "version": "3.8.5"
  }
 },
 "nbformat": 4,
 "nbformat_minor": 4
}
